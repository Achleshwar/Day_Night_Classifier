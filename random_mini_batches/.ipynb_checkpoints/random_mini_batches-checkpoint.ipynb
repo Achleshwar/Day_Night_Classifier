{
 "cells": [
  {
   "cell_type": "code",
   "execution_count": 1,
   "metadata": {},
   "outputs": [],
   "source": [
    "import numpy as np\n",
    "import math"
   ]
  },
  {
   "cell_type": "code",
   "execution_count": 2,
   "metadata": {},
   "outputs": [],
   "source": [
    "def random_mini_batches(X,y,mini_batch_size, seed):\n",
    "    \"\"\"\n",
    "    Creates a list of random minibatches from (X, Y)\n",
    "    \n",
    "    Arguments:\n",
    "    X -- input data, of shape (input size, number of examples)\n",
    "    Y -- true \"label\" vector (1 for night / 0 for day), of shape (1, number of examples)\n",
    "    mini_batch_size -- size of the mini-batches, integer\n",
    "    \n",
    "    Returns:\n",
    "    mini_batches -- (mini_batch_X, mini_batch_Y)\n",
    "    \"\"\"\n",
    "    \n",
    "    np.random.seed(seed)\n",
    "    m = X.shape[1] #no of examples\n",
    "    mini_batches = []\n",
    "    \n",
    "    #Shuffle X and y\n",
    "    indices = list(np.random.permutation(m))\n",
    "    shuffled_X = X[:, indices]\n",
    "    shuffled_y = y[:, indices].reshape((1,m))\n",
    "    \n",
    "    #create mini_batches , minus the end case\n",
    "    total_mini_batches = math.floor(m/mini_batch_size) #this doesn't include end case if m is not multiple of mini_batch_size\n",
    "    for k in range(total_mini_batches):\n",
    "        mini_batch_X = shuffled_X[:, k*mini_batch_size: (k+1)*mini_batch_size]\n",
    "        mini_batch_y = shuffled_y[:, k*mini_batch_size, (k+1)*mini_batch_size]\n",
    "        mini_batch = (mini_batch_X, mini_batch_y)\n",
    "        mini_batches.append(mini_batch)\n",
    "        \n",
    "    #handle the end case\n",
    "    if(m%mini_batch_size !=0):\n",
    "        mini_batch_X = shuffled_X[:, total_mini_batches*mini_batch_size:]\n",
    "        mini_batch_y = shuffled_y[:, total_mini_batches*mini_batch_size:]\n",
    "        mini_batch = (mini_batch_X, mini_batch_y)\n",
    "        mini_batches.append(mini_batch_X, mini_batch_y)\n",
    "        \n",
    "    return mini_batches"
   ]
  },
  {
   "cell_type": "code",
   "execution_count": null,
   "metadata": {},
   "outputs": [],
   "source": []
  }
 ],
 "metadata": {
  "kernelspec": {
   "display_name": "Python 3",
   "language": "python",
   "name": "python3"
  },
  "language_info": {
   "codemirror_mode": {
    "name": "ipython",
    "version": 3
   },
   "file_extension": ".py",
   "mimetype": "text/x-python",
   "name": "python",
   "nbconvert_exporter": "python",
   "pygments_lexer": "ipython3",
   "version": "3.7.6"
  }
 },
 "nbformat": 4,
 "nbformat_minor": 4
}
