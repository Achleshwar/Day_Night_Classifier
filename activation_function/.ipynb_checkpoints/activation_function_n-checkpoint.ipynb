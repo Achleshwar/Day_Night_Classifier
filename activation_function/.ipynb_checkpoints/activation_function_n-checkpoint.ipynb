{
 "cells": [
  {
   "cell_type": "code",
   "execution_count": 3,
   "metadata": {},
   "outputs": [],
   "source": [
    "import numpy as np"
   ]
  },
  {
   "cell_type": "markdown",
   "metadata": {},
   "source": [
    "### Sigmoid:  \n",
    "            𝜎(𝑍)=𝜎(𝑊𝐴+𝑏)=1 / (1+𝑒xp−(𝑊𝐴+𝑏))"
   ]
  },
  {
   "cell_type": "code",
   "execution_count": 4,
   "metadata": {},
   "outputs": [],
   "source": [
    "def sigmoid(Z):\n",
    "    \"\"\" Implement sigmoid function as described above\n",
    "    \n",
    "    Input:\n",
    "    Z --- Output of the linear_forward function\n",
    "    \n",
    "    Returns:\n",
    "    A --- activation value (input for next layer)\n",
    "    activation_cache ---- Z (this will be used while implementing backpropagation)\n",
    "    \"\"\"\n",
    "    \n",
    "    A = 1 / (1 + np.exp(-Z))\n",
    "    \n",
    "    activation_cache = Z\n",
    "    \n",
    "    return A, activation_cache"
   ]
  },
  {
   "cell_type": "code",
   "execution_count": 5,
   "metadata": {},
   "outputs": [],
   "source": [
    "def sigmoid_backward(dA, activation_cache):\n",
    "    \"\"\"\n",
    "    Implement sigmoid_backward for backpropagation\n",
    "    \n",
    "    Input:\n",
    "    \"dA\" --- derivative of activation value of current layer w.r.t. cost function\n",
    "    \"activation_cache\" --- Z of current layer\n",
    "    \n",
    "    Returns:\n",
    "    \"dZ\" --- derivative of Z w.r.t. cost function\n",
    "    \"\"\"\n",
    "    \n",
    "    A, _ = sigmoid(activation_cache)\n",
    "    dg = np.multiply(A, 1-A)\n",
    "    \n",
    "    dZ = np.multiply(dA, dg)\n",
    "    \n",
    "    return dZ"
   ]
  },
  {
   "cell_type": "markdown",
   "metadata": {},
   "source": [
    "### ReLU: \n",
    "      The mathematical formula for ReLu is  𝐴=𝑅𝐸𝐿𝑈(𝑍)=𝑚𝑎𝑥(0,𝑍) "
   ]
  },
  {
   "cell_type": "code",
   "execution_count": 6,
   "metadata": {},
   "outputs": [],
   "source": [
    "def relu(Z):\n",
    "    \"\"\" Implement relu function as described above\n",
    "    \n",
    "    Input:\n",
    "    Z --- Output of the linear_forward function\n",
    "    \n",
    "    Returns:\n",
    "    A --- activation value (input for next layer)\n",
    "    activation_cache ---- Z (this will be used while implementing backpropagation)\n",
    "    \"\"\"\n",
    "    \n",
    "    A = np.where(Z > 0 , Z , 0)\n",
    "    \n",
    "    activation_cache = Z\n",
    "    \n",
    "    return A, activation_cache"
   ]
  },
  {
   "cell_type": "code",
   "execution_count": 7,
   "metadata": {},
   "outputs": [],
   "source": [
    "def relu_backward(dA, activation_cache):\n",
    "    \"\"\"\n",
    "    Implement sigmoid_backward for backpropagation\n",
    "    \n",
    "    Input:\n",
    "    \"dA\" --- derivative of activation value of current layer w.r.t. cost function\n",
    "    \"activation_cache\" --- Z of current layer\n",
    "    \n",
    "    Returns:\n",
    "    \"dZ\" --- derivative of Z w.r.t. cost function\n",
    "    \"\"\"\n",
    "    \n",
    "    dg = np.where(activation_cache >=0, 1, 0)\n",
    "    \n",
    "    dZ = np.multiply(dA, dg)\n",
    "    \n",
    "    return dZ"
   ]
  },
  {
   "cell_type": "code",
   "execution_count": null,
   "metadata": {},
   "outputs": [],
   "source": []
  }
 ],
 "metadata": {
  "kernelspec": {
   "display_name": "Python 3",
   "language": "python",
   "name": "python3"
  },
  "language_info": {
   "codemirror_mode": {
    "name": "ipython",
    "version": 3
   },
   "file_extension": ".py",
   "mimetype": "text/x-python",
   "name": "python",
   "nbconvert_exporter": "python",
   "pygments_lexer": "ipython3",
   "version": "3.7.6"
  }
 },
 "nbformat": 4,
 "nbformat_minor": 4
}
